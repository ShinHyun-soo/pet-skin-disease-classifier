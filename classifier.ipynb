{
 "cells": [
  {
   "cell_type": "markdown",
   "metadata": {
    "id": "view-in-github",
    "colab_type": "text"
   },
   "source": [
    "<a href=\"https://colab.research.google.com/github/ShinHyun-soo/pet-skin-disease-classifier-tensorfow-lite-sample/blob/main/mobilevit.ipynb\" target=\"_parent\"><img src=\"https://colab.research.google.com/assets/colab-badge.svg\" alt=\"Open In Colab\"/></a>"
   ]
  },
  {
   "cell_type": "markdown",
   "metadata": {
    "id": "PquCQpPiwyqZ"
   },
   "source": [
    "# MobileViT: A mobile-friendly Transformer-based model for image classification\n",
    "\n",
    "**Author:** [Sayak Paul](https://twitter.com/RisingSayak)<br>\n",
    "**Date created:** 2021/10/20<br>\n",
    "**Last modified:** 2021/10/20<br>\n",
    "**Description:** MobileViT for image classification with combined benefits of convolutions and Transformers."
   ]
  },
  {
   "cell_type": "markdown",
   "metadata": {
    "id": "H40E8OPiwyqb"
   },
   "source": [
    "## Introduction\n",
    "\n",
    "In this example, we implement the MobileViT architecture\n",
    "([Mehta et al.](https://arxiv.org/abs/2110.02178)),\n",
    "which combines the benefits of Transformers\n",
    "([Vaswani et al.](https://arxiv.org/abs/1706.03762))\n",
    "and convolutions. With Transformers, we can capture long-range dependencies that result\n",
    "in global representations. With convolutions, we can capture spatial relationships that\n",
    "model locality.\n",
    "\n",
    "Besides combining the properties of Transformers and convolutions, the authors introduce\n",
    "MobileViT as a general-purpose mobile-friendly backbone for different image recognition\n",
    "tasks. Their findings suggest that, performance-wise, MobileViT is better than other\n",
    "models with the same or higher complexity ([MobileNetV3](https://arxiv.org/abs/1905.02244),\n",
    "for example), while being efficient on mobile devices."
   ]
  },
  {
   "cell_type": "markdown",
   "metadata": {
    "id": "fQmOi7HOwyqb"
   },
   "source": [
    "## Imports"
   ]
  },
  {
   "cell_type": "code",
   "source": [
    "!pip install tensorflow_addons\n"
   ],
   "metadata": {
    "id": "CGDoDQXyxTTu",
    "outputId": "2caf1400-23e9-4729-c526-4257d36ee483",
    "colab": {
     "base_uri": "https://localhost:8080/"
    }
   },
   "execution_count": 1,
   "outputs": [
    {
     "output_type": "stream",
     "name": "stdout",
     "text": [
      "Collecting tensorflow_addons\n",
      "  Downloading tensorflow_addons-0.21.0-cp310-cp310-manylinux_2_17_x86_64.manylinux2014_x86_64.whl (612 kB)\n",
      "\u001B[2K     \u001B[90m━━━━━━━━━━━━━━━━━━━━━━━━━━━━━━━━━━━━━━━\u001B[0m \u001B[32m612.1/612.1 kB\u001B[0m \u001B[31m9.7 MB/s\u001B[0m eta \u001B[36m0:00:00\u001B[0m\n",
      "\u001B[?25hRequirement already satisfied: packaging in /usr/local/lib/python3.10/dist-packages (from tensorflow_addons) (23.1)\n",
      "Collecting typeguard<3.0.0,>=2.7 (from tensorflow_addons)\n",
      "  Downloading typeguard-2.13.3-py3-none-any.whl (17 kB)\n",
      "Installing collected packages: typeguard, tensorflow_addons\n",
      "Successfully installed tensorflow_addons-0.21.0 typeguard-2.13.3\n"
     ]
    }
   ]
  },
  {
   "cell_type": "code",
   "execution_count": 2,
   "metadata": {
    "id": "YSmS3NCLwyqc",
    "colab": {
     "base_uri": "https://localhost:8080/"
    },
    "outputId": "6e7ab82c-478e-4345-f0de-f6f7fb7ab269"
   },
   "outputs": [
    {
     "output_type": "stream",
     "name": "stderr",
     "text": [
      "/usr/local/lib/python3.10/dist-packages/tensorflow_addons/utils/tfa_eol_msg.py:23: UserWarning: \n",
      "\n",
      "TensorFlow Addons (TFA) has ended development and introduction of new features.\n",
      "TFA has entered a minimal maintenance and release mode until a planned end of life in May 2024.\n",
      "Please modify downstream libraries to take dependencies from other repositories in our TensorFlow community (e.g. Keras, Keras-CV, and Keras-NLP). \n",
      "\n",
      "For more information see: https://github.com/tensorflow/addons/issues/2807 \n",
      "\n",
      "  warnings.warn(\n"
     ]
    }
   ],
   "source": [
    "import tensorflow as tf\n",
    "\n",
    "from keras.applications import imagenet_utils\n",
    "from tensorflow.keras import layers\n",
    "from tensorflow import keras\n",
    "\n",
    "import tensorflow_addons as tfa\n"
   ]
  },
  {
   "cell_type": "markdown",
   "metadata": {
    "id": "HgfUarIGwyqc"
   },
   "source": [
    "## Hyperparameters"
   ]
  },
  {
   "cell_type": "code",
   "execution_count": null,
   "metadata": {
    "id": "qUc0K070wyqc"
   },
   "outputs": [],
   "source": [
    "# Values are from table 4.\n",
    "patch_size = 4  # 2x2, for the Transformer blocks.\n",
    "image_size = 256\n",
    "expansion_factor = 2  # expansion factor for the MobileNetV2 blocks."
   ]
  },
  {
   "cell_type": "code",
   "execution_count": 3,
   "metadata": {
    "id": "qQv9CIxTwyqd",
    "colab": {
     "base_uri": "https://localhost:8080/"
    },
    "outputId": "8947bcf7-3348-4a2e-d728-5cb22b3f2542"
   },
   "outputs": [
    {
     "output_type": "stream",
     "name": "stdout",
     "text": [
      "Model: \"MobileNetV1\"\n",
      "_________________________________________________________________\n",
      " Layer (type)                Output Shape              Param #   \n",
      "=================================================================\n",
      " input_1 (InputLayer)        [(None, 224, 224, 3)]     0         \n",
      "                                                                 \n",
      " conv2d (Conv2D)             (None, 112, 112, 32)      896       \n",
      "                                                                 \n",
      " batch_normalization (BatchN  (None, 112, 112, 32)     128       \n",
      " ormalization)                                                   \n",
      "                                                                 \n",
      " re_lu (ReLU)                (None, 112, 112, 32)      0         \n",
      "                                                                 \n",
      " depthwise_conv2d (Depthwise  (None, 112, 112, 32)     320       \n",
      " Conv2D)                                                         \n",
      "                                                                 \n",
      " batch_normalization_1 (Batc  (None, 112, 112, 32)     128       \n",
      " hNormalization)                                                 \n",
      "                                                                 \n",
      " re_lu_1 (ReLU)              (None, 112, 112, 32)      0         \n",
      "                                                                 \n",
      " conv2d_1 (Conv2D)           (None, 112, 112, 64)      2112      \n",
      "                                                                 \n",
      " batch_normalization_2 (Batc  (None, 112, 112, 64)     256       \n",
      " hNormalization)                                                 \n",
      "                                                                 \n",
      " re_lu_2 (ReLU)              (None, 112, 112, 64)      0         \n",
      "                                                                 \n",
      " depthwise_conv2d_1 (Depthwi  (None, 56, 56, 64)       640       \n",
      " seConv2D)                                                       \n",
      "                                                                 \n",
      " batch_normalization_3 (Batc  (None, 56, 56, 64)       256       \n",
      " hNormalization)                                                 \n",
      "                                                                 \n",
      " re_lu_3 (ReLU)              (None, 56, 56, 64)        0         \n",
      "                                                                 \n",
      " conv2d_2 (Conv2D)           (None, 56, 56, 128)       8320      \n",
      "                                                                 \n",
      " batch_normalization_4 (Batc  (None, 56, 56, 128)      512       \n",
      " hNormalization)                                                 \n",
      "                                                                 \n",
      " re_lu_4 (ReLU)              (None, 56, 56, 128)       0         \n",
      "                                                                 \n",
      " depthwise_conv2d_2 (Depthwi  (None, 56, 56, 128)      1280      \n",
      " seConv2D)                                                       \n",
      "                                                                 \n",
      " batch_normalization_5 (Batc  (None, 56, 56, 128)      512       \n",
      " hNormalization)                                                 \n",
      "                                                                 \n",
      " re_lu_5 (ReLU)              (None, 56, 56, 128)       0         \n",
      "                                                                 \n",
      " conv2d_3 (Conv2D)           (None, 56, 56, 128)       16512     \n",
      "                                                                 \n",
      " batch_normalization_6 (Batc  (None, 56, 56, 128)      512       \n",
      " hNormalization)                                                 \n",
      "                                                                 \n",
      " re_lu_6 (ReLU)              (None, 56, 56, 128)       0         \n",
      "                                                                 \n",
      " depthwise_conv2d_3 (Depthwi  (None, 28, 28, 128)      1280      \n",
      " seConv2D)                                                       \n",
      "                                                                 \n",
      " batch_normalization_7 (Batc  (None, 28, 28, 128)      512       \n",
      " hNormalization)                                                 \n",
      "                                                                 \n",
      " re_lu_7 (ReLU)              (None, 28, 28, 128)       0         \n",
      "                                                                 \n",
      " conv2d_4 (Conv2D)           (None, 28, 28, 256)       33024     \n",
      "                                                                 \n",
      " batch_normalization_8 (Batc  (None, 28, 28, 256)      1024      \n",
      " hNormalization)                                                 \n",
      "                                                                 \n",
      " re_lu_8 (ReLU)              (None, 28, 28, 256)       0         \n",
      "                                                                 \n",
      " depthwise_conv2d_4 (Depthwi  (None, 28, 28, 256)      2560      \n",
      " seConv2D)                                                       \n",
      "                                                                 \n",
      " batch_normalization_9 (Batc  (None, 28, 28, 256)      1024      \n",
      " hNormalization)                                                 \n",
      "                                                                 \n",
      " re_lu_9 (ReLU)              (None, 28, 28, 256)       0         \n",
      "                                                                 \n",
      " conv2d_5 (Conv2D)           (None, 28, 28, 256)       65792     \n",
      "                                                                 \n",
      " batch_normalization_10 (Bat  (None, 28, 28, 256)      1024      \n",
      " chNormalization)                                                \n",
      "                                                                 \n",
      " re_lu_10 (ReLU)             (None, 28, 28, 256)       0         \n",
      "                                                                 \n",
      " depthwise_conv2d_5 (Depthwi  (None, 14, 14, 256)      2560      \n",
      " seConv2D)                                                       \n",
      "                                                                 \n",
      " batch_normalization_11 (Bat  (None, 14, 14, 256)      1024      \n",
      " chNormalization)                                                \n",
      "                                                                 \n",
      " re_lu_11 (ReLU)             (None, 14, 14, 256)       0         \n",
      "                                                                 \n",
      " conv2d_6 (Conv2D)           (None, 14, 14, 512)       131584    \n",
      "                                                                 \n",
      " batch_normalization_12 (Bat  (None, 14, 14, 512)      2048      \n",
      " chNormalization)                                                \n",
      "                                                                 \n",
      " re_lu_12 (ReLU)             (None, 14, 14, 512)       0         \n",
      "                                                                 \n",
      " depthwise_conv2d_6 (Depthwi  (None, 14, 14, 512)      5120      \n",
      " seConv2D)                                                       \n",
      "                                                                 \n",
      " batch_normalization_13 (Bat  (None, 14, 14, 512)      2048      \n",
      " chNormalization)                                                \n",
      "                                                                 \n",
      " re_lu_13 (ReLU)             (None, 14, 14, 512)       0         \n",
      "                                                                 \n",
      " conv2d_7 (Conv2D)           (None, 14, 14, 512)       262656    \n",
      "                                                                 \n",
      " batch_normalization_14 (Bat  (None, 14, 14, 512)      2048      \n",
      " chNormalization)                                                \n",
      "                                                                 \n",
      " re_lu_14 (ReLU)             (None, 14, 14, 512)       0         \n",
      "                                                                 \n",
      " depthwise_conv2d_7 (Depthwi  (None, 14, 14, 512)      5120      \n",
      " seConv2D)                                                       \n",
      "                                                                 \n",
      " batch_normalization_15 (Bat  (None, 14, 14, 512)      2048      \n",
      " chNormalization)                                                \n",
      "                                                                 \n",
      " re_lu_15 (ReLU)             (None, 14, 14, 512)       0         \n",
      "                                                                 \n",
      " conv2d_8 (Conv2D)           (None, 14, 14, 512)       262656    \n",
      "                                                                 \n",
      " batch_normalization_16 (Bat  (None, 14, 14, 512)      2048      \n",
      " chNormalization)                                                \n",
      "                                                                 \n",
      " re_lu_16 (ReLU)             (None, 14, 14, 512)       0         \n",
      "                                                                 \n",
      " depthwise_conv2d_8 (Depthwi  (None, 14, 14, 512)      5120      \n",
      " seConv2D)                                                       \n",
      "                                                                 \n",
      " batch_normalization_17 (Bat  (None, 14, 14, 512)      2048      \n",
      " chNormalization)                                                \n",
      "                                                                 \n",
      " re_lu_17 (ReLU)             (None, 14, 14, 512)       0         \n",
      "                                                                 \n",
      " conv2d_9 (Conv2D)           (None, 14, 14, 512)       262656    \n",
      "                                                                 \n",
      " batch_normalization_18 (Bat  (None, 14, 14, 512)      2048      \n",
      " chNormalization)                                                \n",
      "                                                                 \n",
      " re_lu_18 (ReLU)             (None, 14, 14, 512)       0         \n",
      "                                                                 \n",
      " depthwise_conv2d_9 (Depthwi  (None, 14, 14, 512)      5120      \n",
      " seConv2D)                                                       \n",
      "                                                                 \n",
      " batch_normalization_19 (Bat  (None, 14, 14, 512)      2048      \n",
      " chNormalization)                                                \n",
      "                                                                 \n",
      " re_lu_19 (ReLU)             (None, 14, 14, 512)       0         \n",
      "                                                                 \n",
      " conv2d_10 (Conv2D)          (None, 14, 14, 512)       262656    \n",
      "                                                                 \n",
      " batch_normalization_20 (Bat  (None, 14, 14, 512)      2048      \n",
      " chNormalization)                                                \n",
      "                                                                 \n",
      " re_lu_20 (ReLU)             (None, 14, 14, 512)       0         \n",
      "                                                                 \n",
      " depthwise_conv2d_10 (Depthw  (None, 14, 14, 512)      5120      \n",
      " iseConv2D)                                                      \n",
      "                                                                 \n",
      " batch_normalization_21 (Bat  (None, 14, 14, 512)      2048      \n",
      " chNormalization)                                                \n",
      "                                                                 \n",
      " re_lu_21 (ReLU)             (None, 14, 14, 512)       0         \n",
      "                                                                 \n",
      " conv2d_11 (Conv2D)          (None, 14, 14, 512)       262656    \n",
      "                                                                 \n",
      " batch_normalization_22 (Bat  (None, 14, 14, 512)      2048      \n",
      " chNormalization)                                                \n",
      "                                                                 \n",
      " re_lu_22 (ReLU)             (None, 14, 14, 512)       0         \n",
      "                                                                 \n",
      " depthwise_conv2d_11 (Depthw  (None, 7, 7, 512)        5120      \n",
      " iseConv2D)                                                      \n",
      "                                                                 \n",
      " batch_normalization_23 (Bat  (None, 7, 7, 512)        2048      \n",
      " chNormalization)                                                \n",
      "                                                                 \n",
      " re_lu_23 (ReLU)             (None, 7, 7, 512)         0         \n",
      "                                                                 \n",
      " conv2d_12 (Conv2D)          (None, 7, 7, 1024)        525312    \n",
      "                                                                 \n",
      " batch_normalization_24 (Bat  (None, 7, 7, 1024)       4096      \n",
      " chNormalization)                                                \n",
      "                                                                 \n",
      " re_lu_24 (ReLU)             (None, 7, 7, 1024)        0         \n",
      "                                                                 \n",
      " depthwise_conv2d_12 (Depthw  (None, 4, 4, 1024)       10240     \n",
      " iseConv2D)                                                      \n",
      "                                                                 \n",
      " batch_normalization_25 (Bat  (None, 4, 4, 1024)       4096      \n",
      " chNormalization)                                                \n",
      "                                                                 \n",
      " re_lu_25 (ReLU)             (None, 4, 4, 1024)        0         \n",
      "                                                                 \n",
      " conv2d_13 (Conv2D)          (None, 4, 4, 1024)        1049600   \n",
      "                                                                 \n",
      " batch_normalization_26 (Bat  (None, 4, 4, 1024)       4096      \n",
      " chNormalization)                                                \n",
      "                                                                 \n",
      " re_lu_26 (ReLU)             (None, 4, 4, 1024)        0         \n",
      "                                                                 \n",
      " global_average_pooling2d (G  (None, 1024)             0         \n",
      " lobalAveragePooling2D)                                          \n",
      "                                                                 \n",
      " reshape (Reshape)           (None, 1, 1, 1024)        0         \n",
      "                                                                 \n",
      " dropout (Dropout)           (None, 1, 1, 1024)        0         \n",
      "                                                                 \n",
      " conv2d_14 (Conv2D)          (None, 1, 1, 1000)        1025000   \n",
      "                                                                 \n",
      " flatten (Flatten)           (None, 1000)              0         \n",
      "                                                                 \n",
      " softmax (Softmax)           (None, 1000)              0         \n",
      "                                                                 \n",
      "=================================================================\n",
      "Total params: 4,264,808\n",
      "Trainable params: 4,242,920\n",
      "Non-trainable params: 21,888\n",
      "_________________________________________________________________\n"
     ]
    }
   ],
   "source": [
    "import tensorflow as tf\n",
    "\n",
    "def conv_bn_relu(x, filters, kernel_size, strides):\n",
    "    x = tf.keras.layers.Conv2D(filters, kernel_size, strides=strides, padding='same')(x)\n",
    "    x = tf.keras.layers.BatchNormalization()(x)\n",
    "    x = tf.keras.layers.ReLU()(x)\n",
    "    return x\n",
    "\n",
    "def depthwise_separable_conv(x, filters, kernel_size, strides):\n",
    "    x = tf.keras.layers.DepthwiseConv2D(kernel_size, strides=strides, padding='same')(x)\n",
    "    x = tf.keras.layers.BatchNormalization()(x)\n",
    "    x = tf.keras.layers.ReLU()(x)\n",
    "\n",
    "    x = tf.keras.layers.Conv2D(filters, 1, padding='same')(x)\n",
    "    x = tf.keras.layers.BatchNormalization()(x)\n",
    "    x = tf.keras.layers.ReLU()(x)\n",
    "    return x\n",
    "\n",
    "def MobileNetV1(input_shape, num_classes):\n",
    "    inputs = tf.keras.layers.Input(shape=input_shape)\n",
    "\n",
    "    x = conv_bn_relu(inputs, 32, 3, strides=2)\n",
    "    x = depthwise_separable_conv(x, 64, 3, strides=1)\n",
    "    x = depthwise_separable_conv(x, 128, 3, strides=2)\n",
    "    x = depthwise_separable_conv(x, 128, 3, strides=1)\n",
    "    x = depthwise_separable_conv(x, 256, 3, strides=2)\n",
    "    x = depthwise_separable_conv(x, 256, 3, strides=1)\n",
    "    x = depthwise_separable_conv(x, 512, 3, strides=2)\n",
    "\n",
    "    for _ in range(5):  # Add 5 depthwise separable convolutions with stride 1\n",
    "        x = depthwise_separable_conv(x, 512, 3, strides=1)\n",
    "\n",
    "    x = depthwise_separable_conv(x, 1024, 3, strides=2)\n",
    "    x = depthwise_separable_conv(x, 1024, 3, strides=2)\n",
    "\n",
    "    x = tf.keras.layers.GlobalAveragePooling2D()(x)\n",
    "    x = tf.keras.layers.Reshape((1, 1, 1024))(x)\n",
    "    x = tf.keras.layers.Dropout(0.3)(x)\n",
    "    x = tf.keras.layers.Conv2D(num_classes, (1, 1), padding='same')(x)\n",
    "    x = tf.keras.layers.Flatten()(x)\n",
    "    outputs = tf.keras.layers.Softmax()(x)\n",
    "\n",
    "    model = tf.keras.Model(inputs, outputs, name='MobileNetV1')\n",
    "    return model\n",
    "\n",
    "# Example usage\n",
    "input_shape = (224, 224, 3)\n",
    "num_classes = 1000  # Change this to the number of classes in your specific task\n",
    "model = MobileNetV1(input_shape, num_classes)\n",
    "model.summary()\n"
   ]
  },
  {
   "cell_type": "code",
   "source": [
    "from google.colab import drive\n",
    "drive.mount('/content/drive')"
   ],
   "metadata": {
    "id": "2sgpoSY36cnd",
    "colab": {
     "base_uri": "https://localhost:8080/"
    },
    "outputId": "ca2c287c-f34a-4ec3-db47-4e2f75c5f9b0"
   },
   "execution_count": 4,
   "outputs": [
    {
     "output_type": "stream",
     "name": "stdout",
     "text": [
      "Mounted at /content/drive\n"
     ]
    }
   ]
  },
  {
   "cell_type": "code",
   "source": [
    "import tensorflow as tf\n",
    "from tensorflow import keras\n",
    "img_gen = tf.keras.preprocessing.image.ImageDataGenerator(rescale=1./255,\n",
    "                                                          validation_split=0.2)"
   ],
   "metadata": {
    "id": "wvKK6NB-cZFa"
   },
   "execution_count": 5,
   "outputs": []
  },
  {
   "cell_type": "code",
   "execution_count": 32,
   "metadata": {
    "id": "gd4V_g8Lwyqf",
    "colab": {
     "base_uri": "https://localhost:8080/"
    },
    "outputId": "2c51f4c2-794a-470d-8015-35f8b3cf6439"
   },
   "outputs": [
    {
     "output_type": "stream",
     "name": "stdout",
     "text": [
      "Found 879 images belonging to 10 classes.\n"
     ]
    }
   ],
   "source": [
    "train_dataset = img_gen.flow_from_directory(directory=\"/content/drive/MyDrive/train/\",\n",
    "                                        target_size = (224,224),\n",
    "                                        class_mode='categorical',\n",
    "                                        subset='training',\n",
    "                                        batch_size = 32)\n",
    "\n"
   ]
  },
  {
   "cell_type": "code",
   "source": [
    "import numpy as np\n",
    "import matplotlib.pyplot as plt\n",
    "\n",
    "# Get the mapping of class names to indices from the train_dataset\n",
    "class_indices = train_dataset.class_indices\n",
    "\n",
    "# Extract class names and their corresponding indices\n",
    "class_names = list(class_indices.keys())\n",
    "class_indices = list(class_indices.values())\n",
    "\n",
    "# Convert train_dataset.classes to a numpy array for easier filtering\n",
    "classes_array = np.array(train_dataset.classes)\n",
    "\n",
    "# Get the number of samples in each class\n",
    "num_samples_per_class = [np.sum(classes_array == idx) for idx in class_indices]\n",
    "\n",
    "# Plot the distribution of classes\n",
    "plt.figure(figsize=(10, 6))\n",
    "plt.bar(class_names, num_samples_per_class)\n",
    "plt.xlabel('Class')\n",
    "plt.ylabel('Number of Samples')\n",
    "plt.title('Distribution of Classes in the Training Dataset')\n",
    "plt.xticks(rotation=45, ha='right')\n",
    "plt.tight_layout()\n",
    "plt.show()\n",
    "\n"
   ],
   "metadata": {
    "colab": {
     "base_uri": "https://localhost:8080/",
     "height": 435
    },
    "id": "oq5oV8eFR2Wl",
    "outputId": "94ca6aaf-8e45-40d8-b64b-a2ff547c4cbd"
   },
   "execution_count": 33,
   "outputs": [
    {
     "output_type": "display_data",
     "data": {
      "text/plain": [
       "<Figure size 1000x600 with 1 Axes>"
      ],
      "image/png": "[encoded data removed]"
     },
     "metadata": {}
    }
   ]
  },
  {
   "cell_type": "code",
   "source": [
    "val_dataset = img_gen.flow_from_directory(directory=\"/content/drive/MyDrive/train/\",\n",
    "                                        target_size = (224,224),\n",
    "                                        class_mode='categorical',\n",
    "                                        subset='validation',\n",
    "                                        shuffle = False,\n",
    "                                        batch_size = 32)"
   ],
   "metadata": {
    "colab": {
     "base_uri": "https://localhost:8080/"
    },
    "id": "gFAJlcVTcWIp",
    "outputId": "54afe068-95ca-4fd5-81de-a60d78e919a1"
   },
   "execution_count": 34,
   "outputs": [
    {
     "output_type": "stream",
     "name": "stdout",
     "text": [
      "Found 214 images belonging to 10 classes.\n"
     ]
    }
   ]
  },
  {
   "cell_type": "markdown",
   "metadata": {
    "id": "gjknXqBYwyqg"
   },
   "source": [
    "## Train a MobileViT (XXS) model"
   ]
  },
  {
   "cell_type": "code",
   "execution_count": null,
   "metadata": {
    "id": "2Q5KdkXEwyqg",
    "outputId": "dc5bd051-5de0-4080-aec1-69bf616399bf",
    "colab": {
     "base_uri": "https://localhost:8080/"
    }
   },
   "outputs": [
    {
     "output_type": "stream",
     "name": "stdout",
     "text": [
      "Epoch 1/60\n",
      "28/28 [==============================] - 25s 257ms/step - loss: 2.3736 - accuracy: 0.2662 - val_loss: 2.1849 - val_accuracy: 0.2850 - lr: 0.0020\n",
      "Epoch 2/60\n",
      "28/28 [==============================] - 6s 195ms/step - loss: 2.0351 - accuracy: 0.3504 - val_loss: 2.1915 - val_accuracy: 0.2850 - lr: 0.0020\n",
      "Epoch 3/60\n",
      "28/28 [==============================] - 6s 200ms/step - loss: 1.9599 - accuracy: 0.3845 - val_loss: 2.2554 - val_accuracy: 0.2850 - lr: 0.0020\n",
      "Epoch 4/60\n",
      "28/28 [==============================] - 5s 195ms/step - loss: 1.8233 - accuracy: 0.4391 - val_loss: 2.2852 - val_accuracy: 0.2850 - lr: 0.0020\n",
      "Epoch 5/60\n",
      "28/28 [==============================] - 6s 200ms/step - loss: 1.8111 - accuracy: 0.4437 - val_loss: 2.4061 - val_accuracy: 0.2850 - lr: 0.0020\n",
      "Epoch 6/60\n",
      "28/28 [==============================] - 6s 195ms/step - loss: 1.6556 - accuracy: 0.5301 - val_loss: 2.5305 - val_accuracy: 0.2850 - lr: 0.0020\n",
      "Epoch 7/60\n",
      "28/28 [==============================] - 5s 195ms/step - loss: 1.5645 - accuracy: 0.5484 - val_loss: 2.7133 - val_accuracy: 0.2850 - lr: 0.0020\n",
      "Epoch 8/60\n",
      "28/28 [==============================] - 6s 196ms/step - loss: 1.5419 - accuracy: 0.5643 - val_loss: 2.8399 - val_accuracy: 0.2850 - lr: 0.0020\n",
      "Epoch 9/60\n",
      "28/28 [==============================] - 6s 196ms/step - loss: 1.5347 - accuracy: 0.5700 - val_loss: 2.9586 - val_accuracy: 0.2850 - lr: 0.0020\n",
      "Epoch 10/60\n",
      "28/28 [==============================] - 6s 199ms/step - loss: 1.3988 - accuracy: 0.6337 - val_loss: 3.0548 - val_accuracy: 0.2850 - lr: 0.0020\n",
      "Epoch 11/60\n",
      "28/28 [==============================] - 6s 197ms/step - loss: 1.2955 - accuracy: 0.6644 - val_loss: 3.1475 - val_accuracy: 0.2850 - lr: 0.0020\n",
      "Epoch 12/60\n",
      "28/28 [==============================] - 6s 203ms/step - loss: 1.1461 - accuracy: 0.7668 - val_loss: 3.3457 - val_accuracy: 0.2850 - lr: 0.0020\n",
      "Epoch 13/60\n",
      "28/28 [==============================] - 6s 198ms/step - loss: 1.1634 - accuracy: 0.7327 - val_loss: 3.5252 - val_accuracy: 0.2850 - lr: 0.0020\n",
      "Epoch 14/60\n",
      "28/28 [==============================] - 6s 198ms/step - loss: 1.0416 - accuracy: 0.7998 - val_loss: 3.8829 - val_accuracy: 0.2850 - lr: 0.0020\n",
      "Epoch 15/60\n",
      "28/28 [==============================] - 6s 197ms/step - loss: 0.9278 - accuracy: 0.8407 - val_loss: 4.0006 - val_accuracy: 0.2850 - lr: 0.0020\n",
      "Epoch 16/60\n",
      "28/28 [==============================] - 6s 197ms/step - loss: 0.9160 - accuracy: 0.8419 - val_loss: 3.6511 - val_accuracy: 0.2850 - lr: 0.0020\n",
      "Epoch 17/60\n",
      "28/28 [==============================] - 6s 198ms/step - loss: 0.9285 - accuracy: 0.8578 - val_loss: 3.5457 - val_accuracy: 0.2850 - lr: 0.0020\n",
      "Epoch 18/60\n",
      "28/28 [==============================] - 6s 196ms/step - loss: 0.8391 - accuracy: 0.8976 - val_loss: 3.6506 - val_accuracy: 0.2850 - lr: 0.0020\n",
      "Epoch 19/60\n",
      "28/28 [==============================] - 6s 219ms/step - loss: 0.7506 - accuracy: 0.9306 - val_loss: 3.1395 - val_accuracy: 0.2944 - lr: 0.0020\n",
      "Epoch 20/60\n",
      "28/28 [==============================] - ETA: 0s - loss: 0.7130 - accuracy: 0.9511"
     ]
    }
   ],
   "source": [
    "learning_rate = 0.002\n",
    "label_smoothing_factor = 0.1\n",
    "epochs = 60\n",
    "\n",
    "optimizer = keras.optimizers.Adam(learning_rate=learning_rate)\n",
    "loss_fn = keras.losses.CategoricalCrossentropy(label_smoothing=label_smoothing_factor)\n",
    "\n",
    "\n",
    "from keras.callbacks import LearningRateScheduler\n",
    "\n",
    "# Learning rate schedule function (you can customize this function)\n",
    "def lr_schedule(epoch, learning_rate=0.002):\n",
    "    if epoch < 30:\n",
    "        return learning_rate\n",
    "    elif epoch < 45:\n",
    "        return learning_rate * 0.1\n",
    "    else:\n",
    "        return learning_rate * 0.01\n",
    "\n",
    "# Modify run_experiment function to include LearningRateScheduler\n",
    "def run_experiment(epochs=epochs):\n",
    "    mobilevit_xxs = MobileNetV1((224, 224, 3), 10)\n",
    "    mobilevit_xxs.compile(optimizer=optimizer, loss=loss_fn, metrics=[\"accuracy\"])\n",
    "\n",
    "    checkpoint_filepath = \"/tmp/checkpoint\"\n",
    "    checkpoint_callback = keras.callbacks.ModelCheckpoint(\n",
    "        checkpoint_filepath,\n",
    "        monitor=\"val_accuracy\",\n",
    "        save_best_only=True,\n",
    "        save_weights_only=True,\n",
    "    )\n",
    "\n",
    "    lr_scheduler = LearningRateScheduler(lr_schedule)\n",
    "\n",
    "    mobilevit_xxs.fit(\n",
    "        train_dataset,\n",
    "        validation_data=val_dataset,\n",
    "        epochs=epochs,\n",
    "        callbacks=[checkpoint_callback, lr_scheduler],\n",
    "    )\n",
    "    mobilevit_xxs.load_weights(checkpoint_filepath)\n",
    "    _, accuracy = mobilevit_xxs.evaluate(val_dataset)\n",
    "    print(f\"Validation accuracy: {round(accuracy * 100, 2)}%\")\n",
    "    return mobilevit_xxs\n",
    "\n",
    "mobilevit_xxs = run_experiment()"
   ]
  },
  {
   "cell_type": "markdown",
   "metadata": {
    "id": "3F_rKtWfwyqg"
   },
   "source": [
    "## Results and TFLite conversion\n",
    "\n",
    "With about one million parameters, getting to ~85% top-1 accuracy on 256x256 resolution is\n",
    "a strong result. This MobileViT mobile is fully compatible with TensorFlow Lite (TFLite)\n",
    "and can be converted with the following code:"
   ]
  },
  {
   "cell_type": "code",
   "execution_count": 10,
   "metadata": {
    "id": "Ywnn_9rewyqg",
    "colab": {
     "base_uri": "https://localhost:8080/"
    },
    "outputId": "916d4482-3700-4479-fa60-4fb43d6641e5"
   },
   "outputs": [
    {
     "output_type": "stream",
     "name": "stderr",
     "text": [
      "WARNING:absl:Found untraced functions such as _jit_compiled_convolution_op, _jit_compiled_convolution_op, _jit_compiled_convolution_op, _jit_compiled_convolution_op, _jit_compiled_convolution_op while saving (showing 5 of 28). These functions will not be directly callable after loading.\n"
     ]
    },
    {
     "output_type": "execute_result",
     "data": {
      "text/plain": [
       "3402616"
      ]
     },
     "metadata": {},
     "execution_count": 10
    }
   ],
   "source": [
    "# Serialize the model as a SavedModel.\n",
    "mobilevit_xxs.save(\"mobilevit_xxs\")\n",
    "\n",
    "# Convert to TFLite. This form of quantization is called\n",
    "# post-training dynamic-range quantization in TFLite.\n",
    "converter = tf.lite.TFLiteConverter.from_saved_model(\"mobilevit_xxs\")\n",
    "converter.optimizations = [tf.lite.Optimize.DEFAULT]\n",
    "converter.target_spec.supported_ops = [\n",
    "    tf.lite.OpsSet.TFLITE_BUILTINS,  # Enable TensorFlow Lite ops.\n",
    "    tf.lite.OpsSet.SELECT_TF_OPS,  # Enable TensorFlow ops.\n",
    "]\n",
    "tflite_model = converter.convert()\n",
    "open(\"mobilevit_xxs.tflite\", \"wb\").write(tflite_model)"
   ]
  },
  {
   "cell_type": "code",
   "source": [
    "!pip install tflite-support\n"
   ],
   "metadata": {
    "colab": {
     "base_uri": "https://localhost:8080/"
    },
    "id": "EmTjhZ1RL6a6",
    "outputId": "06528468-c95d-461c-9bef-8c7dc975de34"
   },
   "execution_count": 11,
   "outputs": [
    {
     "output_type": "stream",
     "name": "stdout",
     "text": [
      "Collecting tflite-support\n",
      "  Downloading tflite_support-0.4.4-cp310-cp310-manylinux2014_x86_64.whl (60.8 MB)\n",
      "\u001B[2K     \u001B[90m━━━━━━━━━━━━━━━━━━━━━━━━━━━━━━━━━━━━━━━━\u001B[0m \u001B[32m60.8/60.8 MB\u001B[0m \u001B[31m25.0 MB/s\u001B[0m eta \u001B[36m0:00:00\u001B[0m\n",
      "\u001B[?25hRequirement already satisfied: absl-py>=0.7.0 in /usr/local/lib/python3.10/dist-packages (from tflite-support) (1.4.0)\n",
      "Requirement already satisfied: numpy>=1.20.0 in /usr/local/lib/python3.10/dist-packages (from tflite-support) (1.22.4)\n",
      "Requirement already satisfied: flatbuffers>=2.0 in /usr/local/lib/python3.10/dist-packages (from tflite-support) (23.5.26)\n",
      "Requirement already satisfied: protobuf<4,>=3.18.0 in /usr/local/lib/python3.10/dist-packages (from tflite-support) (3.20.3)\n",
      "Collecting sounddevice>=0.4.4 (from tflite-support)\n",
      "  Downloading sounddevice-0.4.6-py3-none-any.whl (31 kB)\n",
      "Collecting pybind11>=2.6.0 (from tflite-support)\n",
      "  Downloading pybind11-2.11.1-py3-none-any.whl (227 kB)\n",
      "\u001B[2K     \u001B[90m━━━━━━━━━━━━━━━━━━━━━━━━━━━━━━━━━━━━━━\u001B[0m \u001B[32m227.7/227.7 kB\u001B[0m \u001B[31m25.6 MB/s\u001B[0m eta \u001B[36m0:00:00\u001B[0m\n",
      "\u001B[?25hRequirement already satisfied: CFFI>=1.0 in /usr/local/lib/python3.10/dist-packages (from sounddevice>=0.4.4->tflite-support) (1.15.1)\n",
      "Requirement already satisfied: pycparser in /usr/local/lib/python3.10/dist-packages (from CFFI>=1.0->sounddevice>=0.4.4->tflite-support) (2.21)\n",
      "Installing collected packages: pybind11, sounddevice, tflite-support\n",
      "Successfully installed pybind11-2.11.1 sounddevice-0.4.6 tflite-support-0.4.4\n"
     ]
    }
   ]
  },
  {
   "cell_type": "code",
   "source": [
    "from tflite_support import flatbuffers\n",
    "from tflite_support import metadata as _metadata\n",
    "from tflite_support import metadata_schema_py_generated as _metadata_fb"
   ],
   "metadata": {
    "id": "kZYt_r5aL_Eg"
   },
   "execution_count": 12,
   "outputs": []
  },
  {
   "cell_type": "code",
   "source": [
    "from tflite_support import metadata_schema_py_generated as _metadata_fb\n",
    "##%%\n",
    "\"\"\" ... \"\"\"\n",
    "\"\"\"Creates the metadata for an image classifier.\"\"\"\n",
    "\n",
    "# Creates model info.\n",
    "model_meta = _metadata_fb.ModelMetadataT()\n",
    "model_meta.name = \"MobileNetV1 Pet skin disease classifier\"\n",
    "model_meta.description = (\"Classify Pet skin disease\")\n",
    "model_meta.version = \"v2\"\n",
    "model_meta.author = \"BEOKS\"\n",
    "model_meta.license = (\"Apache License. Version 2.0 \"\n",
    "                      \"http://www.apache.org/licenses/LICENSE-2.0.\")"
   ],
   "metadata": {
    "id": "gUHYEY50MDBK"
   },
   "execution_count": 13,
   "outputs": []
  },
  {
   "cell_type": "code",
   "source": [
    "# Creates input info.\n",
    "input_meta = _metadata_fb.TensorMetadataT()\n",
    "input_meta.name = \"image\"\n",
    "input_meta.content = _metadata_fb.ContentT()\n",
    "input_meta.content.contentProperties = _metadata_fb.ImagePropertiesT()\n",
    "input_meta.content.contentProperties.colorSpace = (\n",
    "    _metadata_fb.ColorSpaceType.RGB)\n",
    "input_meta.content.contentPropertiesType = (\n",
    "    _metadata_fb.ContentProperties.ImageProperties)\n",
    "input_normalization = _metadata_fb.ProcessUnitT()\n",
    "input_normalization.optionsType = (\n",
    "    _metadata_fb.ProcessUnitOptions.NormalizationOptions)\n",
    "input_normalization.options = _metadata_fb.NormalizationOptionsT()\n",
    "input_normalization.options.mean = [127.5]\n",
    "input_normalization.options.std = [127.5]\n",
    "input_meta.processUnits = [input_normalization]\n",
    "input_stats = _metadata_fb.StatsT()\n",
    "input_stats.max = [255]\n",
    "input_stats.min = [0]\n",
    "input_meta.stats = input_stats"
   ],
   "metadata": {
    "id": "eX1ivOwIMTgk"
   },
   "execution_count": 14,
   "outputs": []
  },
  {
   "cell_type": "code",
   "source": [
    "# Creates outputs info.\n",
    "output_location_meta = _metadata_fb.TensorMetadataT()\n",
    "output_location_meta.name = \"location\"\n",
    "output_location_meta.description = \"The locations of the detected boxes.\"\n",
    "output_location_meta.content = _metadata_fb.ContentT()\n",
    "output_location_meta.content.contentPropertiesType = (\n",
    "    _metadata_fb.ContentProperties.BoundingBoxProperties)\n",
    "output_location_meta.content.contentProperties = (\n",
    "    _metadata_fb.BoundingBoxPropertiesT())\n",
    "output_location_meta.content.contentProperties.index = [1, 0, 3, 2]\n",
    "output_location_meta.content.contentProperties.type = (\n",
    "    _metadata_fb.BoundingBoxType.BOUNDARIES)\n",
    "output_location_meta.content.contentProperties.coordinateType = (\n",
    "    _metadata_fb.CoordinateType.RATIO)\n",
    "output_location_meta.content.range = _metadata_fb.ValueRangeT()\n",
    "output_location_meta.content.range.min = 2\n",
    "output_location_meta.content.range.max = 2\n",
    "output_class_meta = _metadata_fb.TensorMetadataT()\n",
    "output_class_meta.name = \"category\"\n",
    "output_class_meta.description = \"The categories of the detected boxes.\"\n",
    "output_class_meta.content = _metadata_fb.ContentT()\n",
    "output_class_meta.content.contentPropertiesType = (\n",
    "    _metadata_fb.ContentProperties.FeatureProperties)\n",
    "output_class_meta.content.contentProperties = (\n",
    "    _metadata_fb.FeaturePropertiesT())\n",
    "output_class_meta.content.range = _metadata_fb.ValueRangeT()\n",
    "output_class_meta.content.range.min = 2\n",
    "output_class_meta.content.range.max = 2\n",
    "label_file = _metadata_fb.AssociatedFileT()\n",
    "label_file.name = 'label.txt'\n",
    "label_file.description = \"Label of objects that this model can recognize.\"\n",
    "label_file.type = _metadata_fb.AssociatedFileType.TENSOR_VALUE_LABELS\n",
    "output_class_meta.associatedFiles = [label_file]\n",
    "output_score_meta = _metadata_fb.TensorMetadataT()\n",
    "output_score_meta.name = \"score\"\n",
    "output_score_meta.description = \"The scores of the detected boxes.\"\n",
    "output_score_meta.content = _metadata_fb.ContentT()\n",
    "output_score_meta.content.contentPropertiesType = (\n",
    "    _metadata_fb.ContentProperties.FeatureProperties)\n",
    "output_score_meta.content.contentProperties = (\n",
    "    _metadata_fb.FeaturePropertiesT())\n",
    "output_score_meta.content.range = _metadata_fb.ValueRangeT()\n",
    "output_score_meta.content.range.min = 2\n",
    "output_score_meta.content.range.max = 2\n",
    "output_number_meta = _metadata_fb.TensorMetadataT()\n",
    "output_number_meta.name = \"number of detections\"\n",
    "output_number_meta.description = \"The number of the detected boxes.\"\n",
    "output_number_meta.content = _metadata_fb.ContentT()\n",
    "output_number_meta.content.contentPropertiesType = (\n",
    "    _metadata_fb.ContentProperties.FeatureProperties)\n",
    "output_number_meta.content.contentProperties = (\n",
    "    _metadata_fb.FeaturePropertiesT())"
   ],
   "metadata": {
    "id": "VONz1TVcMYuv"
   },
   "execution_count": 15,
   "outputs": []
  },
  {
   "cell_type": "code",
   "source": [
    "group = _metadata_fb.TensorGroupT()\n",
    "group.name = \"detection result\"\n",
    "group.tensorNames = [\n",
    "    output_location_meta.name, output_class_meta.name,\n",
    "    output_score_meta.name\n",
    "]\n",
    "subgraph = _metadata_fb.SubGraphMetadataT()\n",
    "subgraph.inputTensorMetadata = [input_meta]\n",
    "subgraph.outputTensorMetadata = [\n",
    "    output_class_meta\n",
    "]\n",
    "subgraph.outputTensorGroups = [group]\n",
    "model_meta.subgraphMetadata = [subgraph]\n",
    "b = flatbuffers.Builder(0)\n",
    "b.Finish(\n",
    "    model_meta.Pack(b),\n",
    "    _metadata.MetadataPopulator.METADATA_FILE_IDENTIFIER)\n",
    "metadta_buf = b.Output()"
   ],
   "metadata": {
    "id": "6N_zL6_tMjrG"
   },
   "execution_count": 20,
   "outputs": []
  },
  {
   "cell_type": "code",
   "source": [
    "populator = _metadata.MetadataPopulator.with_model_file(\"/content/mobilevit_xxs.tflite\")\n",
    "populator.load_metadata_buffer(metadta_buf)\n",
    "populator.load_associated_files([\"/content/drive/MyDrive/label.txt\"])\n",
    "populator.populate()"
   ],
   "metadata": {
    "colab": {
     "base_uri": "https://localhost:8080/",
     "height": 391
    },
    "id": "YknZR6f-MlNk",
    "outputId": "40677688-f91a-4be2-9dcd-f90facb4274d"
   },
   "execution_count": 24,
   "outputs": [
    {
     "output_type": "error",
     "ename": "ValueError",
     "evalue": "ignored",
     "traceback": [
      "\u001B[0;31m---------------------------------------------------------------------------\u001B[0m",
      "\u001B[0;31mValueError\u001B[0m                                Traceback (most recent call last)",
      "\u001B[0;32m<ipython-input-24-4e773eeb336b>\u001B[0m in \u001B[0;36m<cell line: 4>\u001B[0;34m()\u001B[0m\n\u001B[1;32m      2\u001B[0m \u001B[0mpopulator\u001B[0m\u001B[0;34m.\u001B[0m\u001B[0mload_metadata_buffer\u001B[0m\u001B[0;34m(\u001B[0m\u001B[0mmetadta_buf\u001B[0m\u001B[0;34m)\u001B[0m\u001B[0;34m\u001B[0m\u001B[0;34m\u001B[0m\u001B[0m\n\u001B[1;32m      3\u001B[0m \u001B[0mpopulator\u001B[0m\u001B[0;34m.\u001B[0m\u001B[0mload_associated_files\u001B[0m\u001B[0;34m(\u001B[0m\u001B[0;34m[\u001B[0m\u001B[0;34m\"/content/drive/MyDrive/label.txt\"\u001B[0m\u001B[0;34m]\u001B[0m\u001B[0;34m)\u001B[0m\u001B[0;34m\u001B[0m\u001B[0;34m\u001B[0m\u001B[0m\n\u001B[0;32m----> 4\u001B[0;31m \u001B[0mpopulator\u001B[0m\u001B[0;34m.\u001B[0m\u001B[0mpopulate\u001B[0m\u001B[0;34m(\u001B[0m\u001B[0;34m)\u001B[0m\u001B[0;34m\u001B[0m\u001B[0;34m\u001B[0m\u001B[0m\n\u001B[0m",
      "\u001B[0;32m/usr/local/lib/python3.10/dist-packages/tensorflow_lite_support/metadata/python/metadata.py\u001B[0m in \u001B[0;36mpopulate\u001B[0;34m(self)\u001B[0m\n\u001B[1;32m    361\u001B[0m   \u001B[0;32mdef\u001B[0m \u001B[0mpopulate\u001B[0m\u001B[0;34m(\u001B[0m\u001B[0mself\u001B[0m\u001B[0;34m)\u001B[0m\u001B[0;34m:\u001B[0m\u001B[0;34m\u001B[0m\u001B[0;34m\u001B[0m\u001B[0m\n\u001B[1;32m    362\u001B[0m     \u001B[0;34m\"\"\"Populates loaded metadata and associated files into the model file.\"\"\"\u001B[0m\u001B[0;34m\u001B[0m\u001B[0;34m\u001B[0m\u001B[0m\n\u001B[0;32m--> 363\u001B[0;31m     \u001B[0mself\u001B[0m\u001B[0;34m.\u001B[0m\u001B[0m_assert_validate\u001B[0m\u001B[0;34m(\u001B[0m\u001B[0;34m)\u001B[0m\u001B[0;34m\u001B[0m\u001B[0;34m\u001B[0m\u001B[0m\n\u001B[0m\u001B[1;32m    364\u001B[0m     \u001B[0mself\u001B[0m\u001B[0;34m.\u001B[0m\u001B[0m_populate_metadata_buffer\u001B[0m\u001B[0;34m(\u001B[0m\u001B[0;34m)\u001B[0m\u001B[0;34m\u001B[0m\u001B[0;34m\u001B[0m\u001B[0m\n\u001B[1;32m    365\u001B[0m     \u001B[0mself\u001B[0m\u001B[0;34m.\u001B[0m\u001B[0m_populate_associated_files\u001B[0m\u001B[0;34m(\u001B[0m\u001B[0;34m)\u001B[0m\u001B[0;34m\u001B[0m\u001B[0;34m\u001B[0m\u001B[0m\n",
      "\u001B[0;32m/usr/local/lib/python3.10/dist-packages/tensorflow_lite_support/metadata/python/metadata.py\u001B[0m in \u001B[0;36m_assert_validate\u001B[0;34m(self)\u001B[0m\n\u001B[1;32m    390\u001B[0m     \u001B[0;32mfor\u001B[0m \u001B[0mf\u001B[0m \u001B[0;32min\u001B[0m \u001B[0mto_be_populated_files\u001B[0m\u001B[0;34m:\u001B[0m\u001B[0;34m\u001B[0m\u001B[0;34m\u001B[0m\u001B[0m\n\u001B[1;32m    391\u001B[0m       \u001B[0;32mif\u001B[0m \u001B[0mf\u001B[0m \u001B[0;32min\u001B[0m \u001B[0mpacked_files\u001B[0m\u001B[0;34m:\u001B[0m\u001B[0;34m\u001B[0m\u001B[0;34m\u001B[0m\u001B[0m\n\u001B[0;32m--> 392\u001B[0;31m         \u001B[0;32mraise\u001B[0m \u001B[0mValueError\u001B[0m\u001B[0;34m(\u001B[0m\u001B[0;34m\"File, '{0}', has already been packed.\"\u001B[0m\u001B[0;34m.\u001B[0m\u001B[0mformat\u001B[0m\u001B[0;34m(\u001B[0m\u001B[0mf\u001B[0m\u001B[0;34m)\u001B[0m\u001B[0;34m)\u001B[0m\u001B[0;34m\u001B[0m\u001B[0;34m\u001B[0m\u001B[0m\n\u001B[0m\u001B[1;32m    393\u001B[0m \u001B[0;34m\u001B[0m\u001B[0m\n\u001B[1;32m    394\u001B[0m       \u001B[0;32mif\u001B[0m \u001B[0mf\u001B[0m \u001B[0;32mnot\u001B[0m \u001B[0;32min\u001B[0m \u001B[0mrecorded_files\u001B[0m\u001B[0;34m:\u001B[0m\u001B[0;34m\u001B[0m\u001B[0;34m\u001B[0m\u001B[0m\n",
      "\u001B[0;31mValueError\u001B[0m: File, 'label.txt', has already been packed."
     ]
    }
   ]
  }
 ],
 "metadata": {
  "accelerator": "GPU",
  "colab": {
   "provenance": [],
   "machine_shape": "hm",
   "gpuType": "T4",
   "include_colab_link": true
  },
  "kernelspec": {
   "display_name": "Python 3",
   "name": "python3"
  },
  "language_info": {
   "codemirror_mode": {
    "name": "ipython",
    "version": 3
   },
   "file_extension": ".py",
   "mimetype": "text/x-python",
   "name": "python",
   "nbconvert_exporter": "python",
   "pygments_lexer": "ipython3",
   "version": "3.7.0"
  }
 },
 "nbformat": 4,
 "nbformat_minor": 0
}
